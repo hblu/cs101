{
 "metadata": {
  "name": "Chapter 4 - The for loop"
 },
 "nbformat": 3,
 "nbformat_minor": 0,
 "worksheets": [
  {
   "cells": [
    {
     "cell_type": "markdown",
     "metadata": {
      "slideshow": {
       "slide_type": "slide"
      }
     },
     "source": "## The `for` Loop\n\n<b> Purpose: </b> The `for` loop *iterates* through a list.\n\nThe `for` loop consists of \n\n1. The `for` statement\n    1. `for <name> in <list>:`\n    2. Must end in `:`\n2. An indented block of code "
    },
    {
     "cell_type": "code",
     "collapsed": false,
     "input": "from __future__ import print_function, division\nfor i in [1,2,3,4]:\n    print(\"The value of i is \",i)",
     "language": "python",
     "metadata": {
      "slideshow": {
       "slide_type": "subslide"
      }
     },
     "outputs": [
      {
       "output_type": "stream",
       "stream": "stdout",
       "text": "The value of i is  1\nThe value of i is  2\nThe value of i is  3\nThe value of i is  4\n"
      }
     ],
     "prompt_number": 1
    },
    {
     "cell_type": "markdown",
     "metadata": {
      "slideshow": {
       "slide_type": "slide"
      }
     },
     "source": "## `for` Loop Execution\nA `for` loop executes as follows\n\n1. Repeat until the end of the list.\n    1. Assign the next value to the loop variable\n    2. Execute the block of code\n3. Run the first command after the block."
    },
    {
     "cell_type": "code",
     "collapsed": false,
     "input": "for i in [1,2,3]:\n    print(\"First line of block\")\n    print(\"The value of i is\",i)\n    print(\"Last line of block\\n\")\nprint(\"Out of the block\")",
     "language": "python",
     "metadata": {
      "slideshow": {
       "slide_type": "subslide"
      }
     },
     "outputs": [
      {
       "output_type": "stream",
       "stream": "stdout",
       "text": "First line of block\nThe value of i is 1\nLast line of block\n\nFirst line of block\nThe value of i is 2\nLast line of block\n\nFirst line of block\nThe value of i is 3\nLast line of block\n\nOut of the block\n"
      }
     ],
     "prompt_number": 5
    },
    {
     "cell_type": "markdown",
     "metadata": {
      "slideshow": {
       "slide_type": "slide"
      }
     },
     "source": "## An Example with Turtles\n\nHere is an example of using a `for` loop with turtles"
    },
    {
     "cell_type": "code",
     "collapsed": false,
     "input": "import turtle            #set up alex\nwn = turtle.Screen()\nalex = turtle.Turtle()\n\nfor i in [0,1,2,3]:      #repeat four times\n    alex.forward(50)\n    alex.left(90)\n\nwn.exitonclick()",
     "language": "python",
     "metadata": {
      "slideshow": {
       "slide_type": "fragment"
      }
     },
     "outputs": [],
     "prompt_number": 9
    },
    {
     "cell_type": "markdown",
     "metadata": {
      "slideshow": {
       "slide_type": "fragment"
      }
     },
     "source": "<img src='files/for_example_1.png')/>"
    },
    {
     "cell_type": "markdown",
     "metadata": {
      "slideshow": {
       "slide_type": "slide"
      }
     },
     "source": "Since we don't use `i`, we can\n\n* Use any variable we want\n* Use any list of 4 items"
    },
    {
     "cell_type": "code",
     "collapsed": false,
     "input": "import turtle            #set up alex\nwn = turtle.Screen()\nalex = turtle.Turtle()\n\nfor aColor in [\"yellow\", \"red\", \"purple\", \"blue\"]:      #repeat four times\n    alex.forward(50)\n    alex.left(90)\n\nwn.exitonclick()",
     "language": "python",
     "metadata": {
      "slideshow": {
       "slide_type": "fragment"
      }
     },
     "outputs": [],
     "prompt_number": 12
    },
    {
     "cell_type": "markdown",
     "metadata": {
      "slideshow": {
       "slide_type": "fragment"
      }
     },
     "source": "<img src='files/for_example_1.png')/>"
    },
    {
     "cell_type": "markdown",
     "metadata": {
      "slideshow": {
       "slide_type": "slide"
      }
     },
     "source": "### Important Point \\#1: Names Don't Matter\n\n* We get to pick the name for the loop variable.\n* The name doesn't affect the execution"
    },
    {
     "cell_type": "code",
     "collapsed": false,
     "input": "for i in [1,2,3,4]:\n    print(i)",
     "language": "python",
     "metadata": {
      "slideshow": {
       "slide_type": "fragment"
      }
     },
     "outputs": [
      {
       "output_type": "stream",
       "stream": "stdout",
       "text": "1\n2\n3\n4\n"
      }
     ],
     "prompt_number": 1
    },
    {
     "cell_type": "code",
     "collapsed": false,
     "input": "for j in [1,2,3,4]:\n    print(j)",
     "language": "python",
     "metadata": {
      "slideshow": {
       "slide_type": "fragment"
      }
     },
     "outputs": [
      {
       "output_type": "stream",
       "stream": "stdout",
       "text": "1\n2\n3\n4\n"
      }
     ],
     "prompt_number": 3
    },
    {
     "cell_type": "code",
     "collapsed": false,
     "input": "for Fred in [1,2,3,4]:\n    print(Fred)",
     "language": "python",
     "metadata": {
      "slideshow": {
       "slide_type": "fragment"
      }
     },
     "outputs": [
      {
       "output_type": "stream",
       "stream": "stdout",
       "text": "1\n2\n3\n4\n"
      }
     ],
     "prompt_number": 2
    },
    {
     "cell_type": "markdown",
     "metadata": {
      "slideshow": {
       "slide_type": "slide"
      }
     },
     "source": "### Important Point \\#2: Names TOTALLY Matter\n\nWe should pick names that relate to the context"
    },
    {
     "cell_type": "code",
     "collapsed": false,
     "input": "for color in [\"red\", \"green\", \"blue\"]:\n    print color",
     "language": "python",
     "metadata": {
      "slideshow": {
       "slide_type": "fragment"
      }
     },
     "outputs": [
      {
       "output_type": "stream",
       "stream": "stdout",
       "text": "red\ngreen\nblue\n"
      }
     ],
     "prompt_number": 4
    },
    {
     "cell_type": "code",
     "collapsed": false,
     "input": "for Alice in [\"red\", \"green\", \"blue\"]:\n    print Alice",
     "language": "python",
     "metadata": {
      "slideshow": {
       "slide_type": "fragment"
      }
     },
     "outputs": [
      {
       "output_type": "stream",
       "stream": "stdout",
       "text": "red\ngreen\nblue\n"
      }
     ],
     "prompt_number": 5
    },
    {
     "cell_type": "markdown",
     "metadata": {
      "slideshow": {
       "slide_type": "slide"
      }
     },
     "source": "### Example: Now the List Matters\n\nIn the next example, we will use the colors in a meaningful way."
    },
    {
     "cell_type": "code",
     "collapsed": false,
     "input": "import turtle            #set up alex\nwn = turtle.Screen()\nalex = turtle.Turtle()\n\nfor aColor in [\"yellow\", \"red\", \"purple\", \"blue\"]:\n   alex.color(aColor)\n   alex.forward(50)\n   alex.left(90)\n\nwn.exitonclick()",
     "language": "python",
     "metadata": {
      "slideshow": {
       "slide_type": "fragment"
      }
     },
     "outputs": [],
     "prompt_number": 14
    },
    {
     "cell_type": "markdown",
     "metadata": {
      "slideshow": {
       "slide_type": "fragment"
      }
     },
     "source": "<img src='files/for_example_2.png')/>"
    },
    {
     "cell_type": "markdown",
     "metadata": {
      "slideshow": {
       "slide_type": "slide"
      }
     },
     "source": "## The `range` Function\n\nThe `range` function\n\n* Gives a sequence of numbers\n* Saves time typing\n"
    },
    {
     "cell_type": "code",
     "collapsed": false,
     "input": "for i in range(5):\n    print(\"The value of i is\", i)",
     "language": "python",
     "metadata": {
      "slideshow": {
       "slide_type": "fragment"
      }
     },
     "outputs": [
      {
       "output_type": "stream",
       "stream": "stdout",
       "text": "The value of i is 0\nThe value of i is 1\nThe value of i is 2\nThe value of i is 3\nThe value of i is 4\n"
      }
     ],
     "prompt_number": 19
    },
    {
     "cell_type": "markdown",
     "metadata": {
      "slideshow": {
       "slide_type": "subslide"
      }
     },
     "source": "### Three Forms of `range`\n\n\n#### 1. One input:  `range(10)`\n\n\n* Starts at 0\n* Up to, but not including, 10"
    },
    {
     "cell_type": "code",
     "collapsed": false,
     "input": "for i in range(10):\n    print(i)",
     "language": "python",
     "metadata": {
      "slideshow": {
       "slide_type": "fragment"
      }
     },
     "outputs": [
      {
       "output_type": "stream",
       "stream": "stdout",
       "text": "0\n1\n2\n3\n4\n5\n6\n7\n8\n9\n"
      }
     ],
     "prompt_number": 20
    },
    {
     "cell_type": "markdown",
     "metadata": {
      "slideshow": {
       "slide_type": "subslide"
      }
     },
     "source": "#### 2. Two inputs: `range(3,9)`\n* Starts as 3\n* Up to, but not including, 9"
    },
    {
     "cell_type": "code",
     "collapsed": false,
     "input": "for i in range(3,9):\n    print(i)",
     "language": "python",
     "metadata": {
      "slideshow": {
       "slide_type": "fragment"
      }
     },
     "outputs": [
      {
       "output_type": "stream",
       "stream": "stdout",
       "text": "3\n4\n5\n6\n7\n8\n"
      }
     ],
     "prompt_number": 22
    },
    {
     "cell_type": "markdown",
     "metadata": {
      "slideshow": {
       "slide_type": "subslide"
      }
     },
     "source": "#### 3. Three inputs: `range(3,9,2)`\n\n1. Starts at 3\n2. Up to, but not including, 9\n3. In steps of 2"
    },
    {
     "cell_type": "code",
     "collapsed": false,
     "input": "for i in range(3,9,2):\n    print(i)",
     "language": "python",
     "metadata": {
      "slideshow": {
       "slide_type": "fragment"
      }
     },
     "outputs": [
      {
       "output_type": "stream",
       "stream": "stdout",
       "text": "3\n5\n7\n"
      }
     ],
     "prompt_number": 23
    },
    {
     "cell_type": "code",
     "collapsed": false,
     "input": "",
     "language": "python",
     "metadata": {
      "slideshow": {
       "slide_type": "skip"
      }
     },
     "outputs": [],
     "prompt_number": 1
    },
    {
     "cell_type": "code",
     "collapsed": false,
     "input": "",
     "language": "python",
     "metadata": {},
     "outputs": []
    }
   ],
   "metadata": {}
  }
 ]
}