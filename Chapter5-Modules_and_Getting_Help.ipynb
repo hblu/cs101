{
 "metadata": {
  "name": "Chapter 5 - Modules and Getting Help"
 },
 "nbformat": 3,
 "nbformat_minor": 0,
 "worksheets": [
  {
   "cells": [
    {
     "cell_type": "code",
     "collapsed": false,
     "input": "%run talktools",
     "language": "python",
     "metadata": {
      "slideshow": {
       "slide_type": "skip"
      }
     },
     "outputs": [
      {
       "html": "<style>\n\n.rendered_html\n{\n  color: #2C5494;\n  font-family: Ubuntu;\n  font-size: 250%;\n  line-height: 1.1;\n  margin: 0.5em 0;\n  }\n\n.title\n{\n  color: #498AF3;\n  font-size: 250%;\n  font-weight:bold;\n  line-height: 1.2; \n  margin: 10px 50px 10px;\n  }\n\n.subtitle\n{\n  color: #386BBC;\n  font-size: 180%;\n  font-weight:bold;\n  line-height: 1.2; \n  margin: 20px 50px 20px;\n  }\n\n.slide-header, p.slide-header\n{\n  color: #498AF3;\n  font-size: 200%;\n  font-weight:bold;\n  margin: 0px 20px 10px;\n  page-break-before: always;\n  text-align: center;\n  }\n\n.rendered_html h1\n{\n  color: #498AF3;\n  line-height: 1.2; \n  margin: 0.15em 0em 0.5em;\n  page-break-before: always;\n  text-align: center;\n  }\n\n\n.rendered_html h2\n{ \n  color: #386BBC;\n  line-height: 1.2;\n  margin: 1.1em 0em 0.5em;\n  }\n\n.rendered_html h3\n{ \n  font-size: 120%;\n  line-height: 1.4;\n  margin: 1.1em 0em 0.5em;\n  }\n\n.rendered_html li\n{\n  line-height: 1.8;\n  }\n\n.input_prompt, .CodeMirror-lines\n{\n  font-family: Consolas;\n  font-size: 200%;\n  line-height:1.4;\n  }\n.output_area\n{\n  font-family: Consolas;\n  font-size: 160%;\n  line-height:1.5;\n  }\n\n.gap-above\n{\n  padding-top: 200px;\n  }\n\n.gap01\n{\n  padding-top: 20px;\n  }\n\n.gap05\n{\n  padding-top: 100px;\n  }\n\n.gap1\n{\n  padding-top: 200px;\n  }\n\n.gap2\n{\n  padding-top: 400px;\n  }\n\n.gap3\n{\n  padding-top: 600px;\n  }\n\n.emph\n{\n  color: #386BBC;\n  }\n\n.warn\n{\n  color: red;\n  }\n\n.center\n{\n  text-align: center;\n  }\n\n.nb_link\n{\n    padding-bottom: 0.5em;\n}\n\n</style>\n",
       "metadata": {},
       "output_type": "display_data",
       "text": "<IPython.core.display.HTML at 0x334f250>"
      }
     ],
     "prompt_number": 11
    },
    {
     "cell_type": "markdown",
     "metadata": {
      "slideshow": {
       "slide_type": "slide"
      }
     },
     "source": "## Getting Help\n\nYou can find help by\n\n### 1. `help` in the interpreter\n    \n    \n* open `spyder`\n* `import turtle`\n* `help(turtle.Turtle.stamp)`"
    },
    {
     "cell_type": "code",
     "collapsed": false,
     "input": "import turtle\nhelp(turtle.Turtle.stamp)",
     "language": "python",
     "metadata": {
      "slideshow": {
       "slide_type": "subslide"
      }
     },
     "outputs": [
      {
       "output_type": "stream",
       "stream": "stdout",
       "text": "Help on method stamp in module turtle:\n\nstamp(self) unbound turtle.Turtle method\n    Stamp a copy of the turtleshape onto the canvas and return its id.\n    \n    No argument.\n    \n    Stamp a copy of the turtle shape onto the canvas at the current\n    turtle position. Return a stamp_id for that stamp, which can be\n    used to delete it by calling clearstamp(stamp_id).\n    \n    Example (for a Turtle instance named turtle):\n    >>> turtle.color(\"blue\")\n    >>> turtle.stamp()\n    13\n    >>> turtle.fd(50)\n\n"
      }
     ],
     "prompt_number": 8
    },
    {
     "cell_type": "markdown",
     "metadata": {
      "slideshow": {
       "slide_type": "slide"
      }
     },
     "source": "### 2. Look at the python docs online\n\n\n* Google \"python Turtle module\"\n* Follow the first link"
    },
    {
     "cell_type": "code",
     "collapsed": false,
     "input": "from IPython.display import HTML\nHTML('<iframe src=http://docs.python.org/2/library/turtle.html height=400 width=1000></iframe>')",
     "language": "python",
     "metadata": {
      "slideshow": {
       "slide_type": "subslide"
      }
     },
     "outputs": [
      {
       "html": "<iframe src=http://docs.python.org/2/library/turtle.html height=400 width=1000></iframe>",
       "metadata": {},
       "output_type": "pyout",
       "prompt_number": 16,
       "text": "<IPython.core.display.HTML at 0x3221670>"
      }
     ],
     "prompt_number": 16
    },
    {
     "cell_type": "markdown",
     "metadata": {
      "slideshow": {
       "slide_type": "slide"
      }
     },
     "source": "### Use spyder's object inspector\n\n* `import turtle`\n* Start typing the method\n    * `turtle.Turtle.stamp(`"
    },
    {
     "cell_type": "markdown",
     "metadata": {
      "slideshow": {
       "slide_type": "subslide"
      }
     },
     "source": "<img src=\"files/spyder_object_inspector.png\" /img>"
    },
    {
     "cell_type": "markdown",
     "metadata": {
      "slideshow": {
       "slide_type": "slide"
      }
     },
     "source": "## Three Types of `import` Statements\nThere are three ways to import a module.\n\n### 1. `import math`\n\n* Stores module in `math`\n* Keeps `math` separated from rest of interpreter"
    },
    {
     "cell_type": "code",
     "collapsed": false,
     "input": "import math\nprint(dir())",
     "language": "python",
     "metadata": {
      "slideshow": {
       "slide_type": "subslide"
      }
     },
     "outputs": [
      {
       "output_type": "stream",
       "stream": "stdout",
       "text": "['In', 'Out', '_', '__', '___', '__builtin__', '__builtins__', '__name__', '__package__', '_dh', '_i', '_i1', '_i2', '_i3', '_i4', '_i5', '_ih', '_ii', '_iii', '_oh', '_sh', 'exit', 'get_ipython', 'help', 'm', 'math', 'quit']\n"
      }
     ],
     "prompt_number": 5
    },
    {
     "cell_type": "code",
     "collapsed": false,
     "input": "print(math.pi)\nprint(math.sqrt(3))",
     "language": "python",
     "metadata": {
      "slideshow": {
       "slide_type": "fragment"
      }
     },
     "outputs": [
      {
       "output_type": "stream",
       "stream": "stdout",
       "text": "3.14159265359\n1.73205080757\n"
      }
     ],
     "prompt_number": 6
    },
    {
     "cell_type": "code",
     "collapsed": false,
     "input": "print(dir(math))",
     "language": "python",
     "metadata": {
      "slideshow": {
       "slide_type": "fragment"
      }
     },
     "outputs": [
      {
       "output_type": "stream",
       "stream": "stdout",
       "text": "['__doc__', '__name__', '__package__', 'acos', 'acosh', 'asin', 'asinh', 'atan', 'atan2', 'atanh', 'ceil', 'copysign', 'cos', 'cosh', 'degrees', 'e', 'erf', 'erfc', 'exp', 'expm1', 'fabs', 'factorial', 'floor', 'fmod', 'frexp', 'fsum', 'gamma', 'hypot', 'isinf', 'isnan', 'ldexp', 'lgamma', 'log', 'log10', 'log1p', 'modf', 'pi', 'pow', 'radians', 'sin', 'sinh', 'sqrt', 'tan', 'tanh', 'trunc']\n"
      }
     ],
     "prompt_number": 7
    },
    {
     "cell_type": "markdown",
     "metadata": {
      "slideshow": {
       "slide_type": "subslide"
      }
     },
     "source": "### 2. `import math as m`\n\n* `as m` gives an nickname for the module\n* Still keeps it separate\n* Makes it easier to type"
    },
    {
     "cell_type": "code",
     "collapsed": false,
     "input": "import math as m\nprint(dir())",
     "language": "python",
     "metadata": {
      "slideshow": {
       "slide_type": "subslide"
      }
     },
     "outputs": [
      {
       "output_type": "stream",
       "stream": "stdout",
       "text": "['In', 'Out', '_', '__', '___', '__builtin__', '__builtins__', '__name__', '__package__', '_dh', '_i', '_i1', '_ih', '_ii', '_iii', '_oh', '_sh', 'exit', 'get_ipython', 'help', 'm', 'quit']\n"
      }
     ],
     "prompt_number": 1
    },
    {
     "cell_type": "code",
     "collapsed": false,
     "input": "print(m.pi)\nprint(m.sqrt(3))",
     "language": "python",
     "metadata": {
      "slideshow": {
       "slide_type": "fragment"
      }
     },
     "outputs": [
      {
       "output_type": "stream",
       "stream": "stdout",
       "text": "3.14159265359\n1.73205080757\n"
      }
     ],
     "prompt_number": 8
    },
    {
     "cell_type": "code",
     "collapsed": false,
     "input": "print(dir(m))",
     "language": "python",
     "metadata": {
      "slideshow": {
       "slide_type": "fragment"
      }
     },
     "outputs": [
      {
       "output_type": "stream",
       "stream": "stdout",
       "text": "['__doc__', '__name__', '__package__', 'acos', 'acosh', 'asin', 'asinh', 'atan', 'atan2', 'atanh', 'ceil', 'copysign', 'cos', 'cosh', 'degrees', 'e', 'erf', 'erfc', 'exp', 'expm1', 'fabs', 'factorial', 'floor', 'fmod', 'frexp', 'fsum', 'gamma', 'hypot', 'isinf', 'isnan', 'ldexp', 'lgamma', 'log', 'log10', 'log1p', 'modf', 'pi', 'pow', 'radians', 'sin', 'sinh', 'sqrt', 'tan', 'tanh', 'trunc']\n"
      }
     ],
     "prompt_number": 9
    },
    {
     "cell_type": "markdown",
     "metadata": {
      "slideshow": {
       "slide_type": "subslide"
      }
     },
     "source": "### 3. `from math import *`\n\n* imports all of math into main namespace\n* Saves typing\n* Might cause name conflicts\n    * Two modules with a `sin` function"
    },
    {
     "cell_type": "code",
     "collapsed": false,
     "input": "from math import *\nprint(dir())",
     "language": "python",
     "metadata": {
      "slideshow": {
       "slide_type": "subslide"
      }
     },
     "outputs": [
      {
       "output_type": "stream",
       "stream": "stdout",
       "text": "['In', 'Out', '_', '__', '___', '__builtin__', '__builtins__', '__name__', '__package__', '_dh', '_i', '_i1', '_i2', '_ih', '_ii', '_iii', '_oh', '_sh', 'acos', 'acosh', 'asin', 'asinh', 'atan', 'atan2', 'atanh', 'ceil', 'copysign', 'cos', 'cosh', 'degrees', 'e', 'erf', 'erfc', 'exit', 'exp', 'expm1', 'fabs', 'factorial', 'floor', 'fmod', 'frexp', 'fsum', 'gamma', 'get_ipython', 'help', 'hypot', 'isinf', 'isnan', 'ldexp', 'lgamma', 'log', 'log10', 'log1p', 'modf', 'pi', 'pow', 'quit', 'radians', 'sin', 'sinh', 'sqrt', 'tan', 'tanh', 'trunc']\n"
      }
     ],
     "prompt_number": 2
    },
    {
     "cell_type": "code",
     "collapsed": false,
     "input": "print(pi)\nprint(sqrt(3))",
     "language": "python",
     "metadata": {
      "slideshow": {
       "slide_type": "fragment"
      }
     },
     "outputs": [
      {
       "output_type": "stream",
       "stream": "stdout",
       "text": "3.14159265359\n1.73205080757\n"
      }
     ],
     "prompt_number": 3
    },
    {
     "cell_type": "markdown",
     "metadata": {
      "slideshow": {
       "slide_type": "subslide"
      }
     },
     "source": "### Importing Only Some Functions"
    },
    {
     "cell_type": "code",
     "collapsed": false,
     "input": "from math import pi, sqrt\nprint(pi)\nprint(sqrt(3))",
     "language": "python",
     "metadata": {
      "slideshow": {
       "slide_type": "fragment"
      }
     },
     "outputs": [
      {
       "output_type": "stream",
       "stream": "stdout",
       "text": "3.14159265359\n1.73205080757\n"
      }
     ],
     "prompt_number": 6
    },
    {
     "cell_type": "markdown",
     "metadata": {
      "slideshow": {
       "slide_type": "slide"
      }
     },
     "source": "## Making Your Own Module\n\n1. Copy the following lines into a python \n    1. Personalize the information\n2. Save the file as `myModule.py` in <b> userdata </b>"
    },
    {
     "cell_type": "code",
     "collapsed": false,
     "input": "name = \"Todd Iverson\"\nemail = \"tiverson@smumn.edu\"\nheight = \"6 foot\"",
     "language": "python",
     "metadata": {
      "slideshow": {
       "slide_type": "fragment"
      }
     },
     "outputs": [],
     "prompt_number": 7
    },
    {
     "cell_type": "markdown",
     "metadata": {
      "slideshow": {
       "slide_type": "subslide"
      }
     },
     "source": "### 3. Import your module in the interpreter"
    },
    {
     "cell_type": "code",
     "collapsed": false,
     "input": "import myModule\nprint(dir())",
     "language": "python",
     "metadata": {
      "slideshow": {
       "slide_type": "subslide"
      }
     },
     "outputs": [
      {
       "output_type": "stream",
       "stream": "stdout",
       "text": "['In', 'Out', '_', '__', '___', '__builtin__', '__builtins__', '__name__', '__package__', '_dh', '_i', '_i1', '_ih', '_ii', '_iii', '_oh', '_sh', 'exit', 'get_ipython', 'help', 'myModule', 'quit']\n"
      }
     ],
     "prompt_number": 1
    },
    {
     "cell_type": "code",
     "collapsed": false,
     "input": "print(dir(myModule))",
     "language": "python",
     "metadata": {
      "slideshow": {
       "slide_type": "fragment"
      }
     },
     "outputs": [
      {
       "output_type": "stream",
       "stream": "stdout",
       "text": "['__builtins__', '__doc__', '__file__', '__name__', '__package__', 'email', 'height', 'name']\n"
      }
     ],
     "prompt_number": 2
    },
    {
     "cell_type": "code",
     "collapsed": false,
     "input": "print(myModule.name, myModule.email, myModule.height)",
     "language": "python",
     "metadata": {
      "slideshow": {
       "slide_type": "fragment"
      }
     },
     "outputs": [
      {
       "output_type": "stream",
       "stream": "stdout",
       "text": "('Todd Iverson', 'tiverson@smumn.edu', '6 foot')\n"
      }
     ],
     "prompt_number": 3
    },
    {
     "cell_type": "markdown",
     "metadata": {
      "slideshow": {
       "slide_type": "subslide"
      }
     },
     "source": "#### We will be able to add functions and classes by the end of the course"
    }
   ],
   "metadata": {}
  }
 ]
}