{
 "metadata": {
  "name": ""
 },
 "nbformat": 3,
 "nbformat_minor": 0,
 "worksheets": [
  {
   "cells": [
    {
     "cell_type": "code",
     "collapsed": false,
     "input": [
      "%run talktools\n",
      "from __future__ import print_function"
     ],
     "language": "python",
     "metadata": {
      "slideshow": {
       "slide_type": "skip"
      }
     },
     "outputs": [
      {
       "html": [
        "<style>\n",
        "\n",
        ".rendered_html\n",
        "{\n",
        "  color: #2C5494;\n",
        "  font-family: Ubuntu;\n",
        "  font-size: 250%;\n",
        "  line-height: 1.1;\n",
        "  margin: 0.5em 0;\n",
        "  }\n",
        "\n",
        ".title\n",
        "{\n",
        "  color: #498AF3;\n",
        "  font-size: 250%;\n",
        "  font-weight:bold;\n",
        "  line-height: 1.2; \n",
        "  margin: 10px 50px 10px;\n",
        "  }\n",
        "\n",
        ".subtitle\n",
        "{\n",
        "  color: #386BBC;\n",
        "  font-size: 180%;\n",
        "  font-weight:bold;\n",
        "  line-height: 1.2; \n",
        "  margin: 20px 50px 20px;\n",
        "  }\n",
        "\n",
        ".slide-header, p.slide-header\n",
        "{\n",
        "  color: #498AF3;\n",
        "  font-size: 200%;\n",
        "  font-weight:bold;\n",
        "  margin: 0px 20px 10px;\n",
        "  page-break-before: always;\n",
        "  text-align: center;\n",
        "  }\n",
        "\n",
        ".rendered_html h1\n",
        "{\n",
        "  color: #498AF3;\n",
        "  line-height: 1.2; \n",
        "  margin: 0.15em 0em 0.5em;\n",
        "  page-break-before: always;\n",
        "  text-align: center;\n",
        "  }\n",
        "\n",
        "\n",
        ".rendered_html h2\n",
        "{ \n",
        "  color: #386BBC;\n",
        "  line-height: 1.2;\n",
        "  margin: 1.1em 0em 0.5em;\n",
        "  }\n",
        "\n",
        ".rendered_html h3\n",
        "{ \n",
        "  font-size: 120%;\n",
        "  line-height: 1.4;\n",
        "  margin: 1.1em 0em 0.5em;\n",
        "  }\n",
        "\n",
        ".rendered_html li\n",
        "{\n",
        "  line-height: 1.8;\n",
        "  }\n",
        "\n",
        ".input_prompt, .CodeMirror-lines\n",
        "{\n",
        "  font-family: Consolas;\n",
        "  font-size: 200%;\n",
        "  line-height:1.4;\n",
        "  }\n",
        ".output_area\n",
        "{\n",
        "  font-family: Consolas;\n",
        "  font-size: 160%;\n",
        "  line-height:1.5;\n",
        "  }\n",
        "\n",
        ".gap-above\n",
        "{\n",
        "  padding-top: 200px;\n",
        "  }\n",
        "\n",
        ".gap01\n",
        "{\n",
        "  padding-top: 20px;\n",
        "  }\n",
        "\n",
        ".gap05\n",
        "{\n",
        "  padding-top: 100px;\n",
        "  }\n",
        "\n",
        ".gap1\n",
        "{\n",
        "  padding-top: 200px;\n",
        "  }\n",
        "\n",
        ".gap2\n",
        "{\n",
        "  padding-top: 400px;\n",
        "  }\n",
        "\n",
        ".gap3\n",
        "{\n",
        "  padding-top: 600px;\n",
        "  }\n",
        "\n",
        ".emph\n",
        "{\n",
        "  color: #386BBC;\n",
        "  }\n",
        "\n",
        ".warn\n",
        "{\n",
        "  color: red;\n",
        "  }\n",
        "\n",
        ".center\n",
        "{\n",
        "  text-align: center;\n",
        "  }\n",
        "\n",
        ".nb_link\n",
        "{\n",
        "    padding-bottom: 0.5em;\n",
        "}\n",
        "\n",
        "</style>\n"
       ],
       "metadata": {},
       "output_type": "display_data",
       "text": [
        "<IPython.core.display.HTML at 0x59f66b0>"
       ]
      }
     ],
     "prompt_number": 48
    },
    {
     "cell_type": "markdown",
     "metadata": {
      "slideshow": {
       "slide_type": "slide"
      }
     },
     "source": [
      "### Newton's Method for Square Roots\n",
      "\n",
      "* Iterative Method with Accumulator-like Pattern  \n",
      "    * get initial guess\n",
      "    * update guess many times in a loop."
     ]
    },
    {
     "cell_type": "markdown",
     "metadata": {
      "slideshow": {
       "slide_type": "slide"
      }
     },
     "source": [
      "### 1. Find $\\sqrt{200}$ -- Straight Numbers"
     ]
    },
    {
     "cell_type": "code",
     "collapsed": false,
     "input": [
      "#Initial guess is n/200 -- REMEMBER INTEGER DIVISION!\n",
      "print(200/2.0)"
     ],
     "language": "python",
     "metadata": {
      "slideshow": {
       "slide_type": "fragment"
      }
     },
     "outputs": [
      {
       "output_type": "stream",
       "stream": "stdout",
       "text": [
        "100.0\n"
       ]
      }
     ],
     "prompt_number": 26
    },
    {
     "cell_type": "code",
     "collapsed": false,
     "input": [
      "#newguess = (1/2) * (oldguess + (n/oldguess)).\n",
      "print((1/2.0)*(100.0 + 200.0/100.0))"
     ],
     "language": "python",
     "metadata": {
      "slideshow": {
       "slide_type": "fragment"
      }
     },
     "outputs": [
      {
       "output_type": "stream",
       "stream": "stdout",
       "text": [
        "51.0\n"
       ]
      }
     ],
     "prompt_number": 3
    },
    {
     "cell_type": "code",
     "collapsed": false,
     "input": [
      "print((1/2.0)*(51.0 + 200.0/51.0))"
     ],
     "language": "python",
     "metadata": {
      "slideshow": {
       "slide_type": "fragment"
      }
     },
     "outputs": [
      {
       "output_type": "stream",
       "stream": "stdout",
       "text": [
        "27.4607843137\n"
       ]
      }
     ],
     "prompt_number": 4
    },
    {
     "cell_type": "markdown",
     "metadata": {
      "slideshow": {
       "slide_type": "slide"
      }
     },
     "source": [
      "### 2. Numbers to Variables (**ABSTRACTION!!**)"
     ]
    },
    {
     "cell_type": "code",
     "collapsed": false,
     "input": [
      "n = float(200)\n",
      "oldguess = n/2.0\n",
      "oldguess = (1/2.0)*(oldguess + n/oldguess) "
     ],
     "language": "python",
     "metadata": {
      "slideshow": {
       "slide_type": "fragment"
      }
     },
     "outputs": [],
     "prompt_number": 58
    },
    {
     "cell_type": "code",
     "collapsed": false,
     "input": [
      "oldguess = (1/2.0)*(oldguess + n/oldguess) "
     ],
     "language": "python",
     "metadata": {
      "slideshow": {
       "slide_type": "fragment"
      }
     },
     "outputs": [],
     "prompt_number": 59
    },
    {
     "cell_type": "code",
     "collapsed": false,
     "input": [
      "oldguess = (1/2.0)*(oldguess + n/oldguess) \n",
      "print(oldguess)"
     ],
     "language": "python",
     "metadata": {
      "slideshow": {
       "slide_type": "fragment"
      }
     },
     "outputs": [
      {
       "output_type": "stream",
       "stream": "stdout",
       "text": [
        "17.3719487438\n"
       ]
      }
     ],
     "prompt_number": 60
    },
    {
     "cell_type": "markdown",
     "metadata": {
      "slideshow": {
       "slide_type": "slide"
      }
     },
     "source": [
      "### 3. Use a `for` loop for the repetitive code."
     ]
    },
    {
     "cell_type": "code",
     "collapsed": false,
     "input": [
      "n = float(200)\n",
      "oldguess = n/2.0\n",
      "for i in range(100):\n",
      "    oldguess = (1/2.0)*(oldguess + n/oldguess)\n",
      "print(oldguess)"
     ],
     "language": "python",
     "metadata": {
      "slideshow": {
       "slide_type": "fragment"
      }
     },
     "outputs": [
      {
       "output_type": "stream",
       "stream": "stdout",
       "text": [
        "14.1421356237\n"
       ]
      }
     ],
     "prompt_number": 15
    },
    {
     "cell_type": "code",
     "collapsed": false,
     "input": [
      "#How well did we do?\n",
      "from math import sqrt\n",
      "print sqrt(200)\n",
      "assert oldguess == sqrt(200)"
     ],
     "language": "python",
     "metadata": {
      "slideshow": {
       "slide_type": "fragment"
      }
     },
     "outputs": [
      {
       "output_type": "stream",
       "stream": "stdout",
       "text": [
        "14.1421356237\n"
       ]
      }
     ],
     "prompt_number": 19
    },
    {
     "cell_type": "markdown",
     "metadata": {
      "slideshow": {
       "slide_type": "slide"
      }
     },
     "source": [
      "### Boolean Variables \n",
      "\n",
      "* Two special values for truth\n",
      "    * `True`\n",
      "    * `False`\n",
      "* A variable that stores the values is called a *Boolean variable*"
     ]
    },
    {
     "cell_type": "markdown",
     "metadata": {
      "slideshow": {
       "slide_type": "slide"
      }
     },
     "source": [
      "### Boolean Operations\n",
      "\n",
      "* `and`\n",
      "    * all must be true\n",
      "* `or`\n",
      "    * at least one must be true"
     ]
    },
    {
     "cell_type": "code",
     "collapsed": false,
     "input": [
      "print(True and True)\n",
      "print(True and False)\n",
      "print(False and True)\n",
      "print(False and False)"
     ],
     "language": "python",
     "metadata": {
      "slideshow": {
       "slide_type": "subslide"
      }
     },
     "outputs": [
      {
       "output_type": "stream",
       "stream": "stdout",
       "text": [
        "True\n",
        "False\n",
        "False\n",
        "False\n"
       ]
      }
     ],
     "prompt_number": 20
    },
    {
     "cell_type": "code",
     "collapsed": false,
     "input": [
      "print(True or True)\n",
      "print(True or False)\n",
      "print(False or True)\n",
      "print(False or False)"
     ],
     "language": "python",
     "metadata": {
      "slideshow": {
       "slide_type": "subslide"
      }
     },
     "outputs": [
      {
       "output_type": "stream",
       "stream": "stdout",
       "text": [
        "True\n",
        "True\n",
        "True\n",
        "False\n"
       ]
      }
     ],
     "prompt_number": 21
    },
    {
     "cell_type": "markdown",
     "metadata": {
      "slideshow": {
       "slide_type": "slide"
      }
     },
     "source": [
      "### Comparison Operations\n",
      "\n",
      "* Comparison operators return `True` or `False`\n",
      "* We have the following comparisons in python\n",
      "    * `==`\n",
      "    * `<=`\n",
      "    * `>=`\n",
      "    * `<`\n",
      "    * `>`"
     ]
    },
    {
     "cell_type": "code",
     "collapsed": false,
     "input": [
      "print(3 == 4)\n",
      "print(3 <= 4)\n",
      "print(3 >= 4)\n",
      "print(3 < 4)\n",
      "print(3 > 4)"
     ],
     "language": "python",
     "metadata": {
      "slideshow": {
       "slide_type": "subslide"
      }
     },
     "outputs": [
      {
       "output_type": "stream",
       "stream": "stdout",
       "text": [
        "False\n",
        "True\n",
        "False\n",
        "True\n",
        "False\n"
       ]
      }
     ],
     "prompt_number": 22
    },
    {
     "cell_type": "markdown",
     "metadata": {
      "slideshow": {
       "slide_type": "slide"
      }
     },
     "source": [
      "### `if` Statements\n",
      "\n",
      "* Three forms\n",
      "    1. `if`\n",
      "    2. `if-else`\n",
      "    3. `if-elif-else`"
     ]
    },
    {
     "cell_type": "markdown",
     "metadata": {
      "slideshow": {
       "slide_type": "slide"
      }
     },
     "source": [
      "#### Example - Convert Celsius to Fahrenheit\n",
      "1. Print the temp in Fahrenheit\n",
      "2. Print a warning when\n",
      "    1. temp > 90\n",
      "    2. temp < 30"
     ]
    },
    {
     "cell_type": "code",
     "collapsed": false,
     "input": [
      "def cels_to_fahr(cels):\n",
      "    fahr = 9.0/5.0 * cels + 32.0\n",
      "    print (\"The temp is\", fahr, \"degrees F\")\n",
      "    if fahr >= 90:\n",
      "        print (\"It's really hot!\")\n",
      "    if fahr <= 30:\n",
      "        print (\"Brrrrr. Be sure to dress warmly\")"
     ],
     "language": "python",
     "metadata": {
      "slideshow": {
       "slide_type": "subslide"
      }
     },
     "outputs": [],
     "prompt_number": 27
    },
    {
     "cell_type": "code",
     "collapsed": false,
     "input": [
      "cels_to_fahr(10)\n",
      "cels_to_fahr(-20)\n",
      "cels_to_fahr(35)"
     ],
     "language": "python",
     "metadata": {
      "slideshow": {
       "slide_type": "fragment"
      }
     },
     "outputs": [
      {
       "output_type": "stream",
       "stream": "stdout",
       "text": [
        "The tempurature is 50.0 degrees Fahrenheit\n",
        "The tempurature is -4.0 degrees Fahrenheit\n",
        "Brrrrr. Be sure to dress warmly\n",
        "The tempurature is 95.0 degrees Fahrenheit\n",
        "It's really hot!\n"
       ]
      }
     ],
     "prompt_number": 55
    },
    {
     "cell_type": "markdown",
     "metadata": {
      "slideshow": {
       "slide_type": "slide"
      }
     },
     "source": [
      "### Diagramming the Flow of Execution\n",
      "<img src=\"files/conditional_temp.png\"/ height=300 width=400>"
     ]
    },
    {
     "cell_type": "markdown",
     "metadata": {
      "slideshow": {
       "slide_type": "slide"
      }
     },
     "source": [
      "#### Example 2 - Solutions to a Quadratic Equation\n",
      "\n",
      "$$ x = \\frac{-b \\pm \\sqrt{b^2 - 4ac}}{2a} $$\n",
      "\n",
      "Only get real-solutions when $discrim = b^2 - 4ac \\ge 0$"
     ]
    },
    {
     "cell_type": "code",
     "collapsed": false,
     "input": [
      "from math import sqrt\n",
      "def quad_eqn(a, b, c):\n",
      "    discrim = b**2 - 4*a*c\n",
      "    if discrim < 0:\n",
      "        print(\"No Real Solutions\")\n",
      "    else:\n",
      "        root1 = (-1.0*b - sqrt(discrim))/(2.0*a)\n",
      "        root2 = (-1.0*b + sqrt(discrim))/(2.0*a)\n",
      "        print(\"The roots are\",root1,\"and\",root2)"
     ],
     "language": "python",
     "metadata": {
      "slideshow": {
       "slide_type": "slide"
      }
     },
     "outputs": [],
     "prompt_number": 44
    },
    {
     "cell_type": "markdown",
     "metadata": {
      "slideshow": {
       "slide_type": "slide"
      }
     },
     "source": [
      "#### Testing the Function"
     ]
    },
    {
     "cell_type": "code",
     "collapsed": false,
     "input": [
      "quad_eqn(1,1,2)\n",
      "quad_eqn(2,5,2)\n",
      "quad_eqn(1,2,1)"
     ],
     "language": "python",
     "metadata": {
      "slideshow": {
       "slide_type": "fragment"
      }
     },
     "outputs": [
      {
       "output_type": "stream",
       "stream": "stdout",
       "text": [
        "No Real Solutions\n",
        "The roots are -2.0 and -0.5\n",
        "The roots are -1.0 and -1.0\n"
       ]
      }
     ],
     "prompt_number": 43
    },
    {
     "cell_type": "markdown",
     "metadata": {
      "slideshow": {
       "slide_type": "slide"
      }
     },
     "source": [
      "#### Example 3 - Quadratic Equation and a Single Root\n",
      "\n",
      "The is only one root when $b^2 - 4ac = 0 $"
     ]
    },
    {
     "cell_type": "code",
     "collapsed": false,
     "input": [
      "from math import sqrt\n",
      "def quad_eqn(a, b, c):\n",
      "    discrim = b**2 - 4*a*c\n",
      "    if discrim < 0:\n",
      "        print(\"No Real Solutions\")\n",
      "    elif discrim == 0:\n",
      "        root = (-1.0*b)/(2.0*a)\n",
      "        print(\"The root is\",root)\n",
      "    else:\n",
      "        root1 = (-1.0*b - sqrt(discrim))/(2.0*a)\n",
      "        root2 = (-1.0*b + sqrt(discrim))/(2.0*a)\n",
      "        print(\"The roots are\",root1,\"and\",root2)"
     ],
     "language": "python",
     "metadata": {
      "slideshow": {
       "slide_type": "subslide"
      }
     },
     "outputs": [],
     "prompt_number": 46
    },
    {
     "cell_type": "markdown",
     "metadata": {
      "slideshow": {
       "slide_type": "subslide"
      }
     },
     "source": [
      "#### Testing the function"
     ]
    },
    {
     "cell_type": "code",
     "collapsed": false,
     "input": [
      "quad_eqn(1,1,2)\n",
      "quad_eqn(2,5,2)\n",
      "quad_eqn(1,2,1)"
     ],
     "language": "python",
     "metadata": {
      "slideshow": {
       "slide_type": "fragment"
      }
     },
     "outputs": [
      {
       "output_type": "stream",
       "stream": "stdout",
       "text": [
        "No Real Solutions\n",
        "The roots are -2.0 and -0.5\n",
        "The root is -1.0\n"
       ]
      }
     ],
     "prompt_number": 61
    },
    {
     "cell_type": "markdown",
     "metadata": {
      "slideshow": {
       "slide_type": "slide"
      }
     },
     "source": [
      "#### Example - Quiz Score Function\n",
      "\n",
      "\n",
      "* Quiz is out of 10 points\n",
      "* Grading scale as follows:\n",
      "    * 9 or 10 are A's\n",
      "    * 8 is a B\n",
      "    * 7 is a C\n",
      "    * 6 is a D\n",
      "    * 5 or less is an F"
     ]
    },
    {
     "cell_type": "markdown",
     "metadata": {
      "slideshow": {
       "slide_type": "slide"
      }
     },
     "source": [
      "#### Function Definition"
     ]
    },
    {
     "cell_type": "code",
     "collapsed": false,
     "input": [
      "def quiz(score):\n",
      "    if score >= 9:\n",
      "        print(\"The grade is an A\")\n",
      "    elif score == 8:\n",
      "        print(\"The grade is a B\")\n",
      "    elif score == 7:\n",
      "        print(\"The grade is a C\")\n",
      "    elif score == 6:\n",
      "        print(\"The grade is a D\")\n",
      "    else:\n",
      "        print(\"The grade is an F\")"
     ],
     "language": "python",
     "metadata": {
      "slideshow": {
       "slide_type": "fragment"
      }
     },
     "outputs": [],
     "prompt_number": 62
    },
    {
     "cell_type": "markdown",
     "metadata": {
      "slideshow": {
       "slide_type": "slide"
      }
     },
     "source": [
      "### Testing the Function"
     ]
    },
    {
     "cell_type": "code",
     "collapsed": false,
     "input": [
      "quiz(10)\n",
      "quiz(9)\n",
      "quiz(8)\n",
      "quiz(7)\n",
      "quiz(6)\n",
      "quiz(5)"
     ],
     "language": "python",
     "metadata": {
      "slideshow": {
       "slide_type": "fragment"
      }
     },
     "outputs": [
      {
       "output_type": "stream",
       "stream": "stdout",
       "text": [
        "The grade is an A\n",
        "The grade is an A\n",
        "The grade is a B\n",
        "The grade is a C\n",
        "The grade is a D\n",
        "The grade is an F\n"
       ]
      }
     ],
     "prompt_number": 63
    },
    {
     "cell_type": "code",
     "collapsed": false,
     "input": [],
     "language": "python",
     "metadata": {},
     "outputs": []
    }
   ],
   "metadata": {}
  }
 ]
}