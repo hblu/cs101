{
 "metadata": {
  "name": ""
 },
 "nbformat": 3,
 "nbformat_minor": 0,
 "worksheets": [
  {
   "cells": [
    {
     "cell_type": "markdown",
     "metadata": {
      "slideshow": {
       "slide_type": "slide"
      }
     },
     "source": [
      "## Chapter 7 - `while` loops"
     ]
    },
    {
     "cell_type": "code",
     "collapsed": false,
     "input": [
      "%run talktools\n",
      "from __future__ import division, print_function"
     ],
     "language": "python",
     "metadata": {
      "slideshow": {
       "slide_type": "fragment"
      }
     },
     "outputs": [
      {
       "html": [
        "<style>\n",
        "\n",
        ".rendered_html\n",
        "{\n",
        "  color: #2C5494;\n",
        "  font-family: Ubuntu;\n",
        "  font-size: 250%;\n",
        "  line-height: 1.1;\n",
        "  margin: 0.5em 0;\n",
        "  }\n",
        "\n",
        ".title\n",
        "{\n",
        "  color: #498AF3;\n",
        "  font-size: 250%;\n",
        "  font-weight:bold;\n",
        "  line-height: 1.2; \n",
        "  margin: 10px 50px 10px;\n",
        "  }\n",
        "\n",
        ".subtitle\n",
        "{\n",
        "  color: #386BBC;\n",
        "  font-size: 180%;\n",
        "  font-weight:bold;\n",
        "  line-height: 1.2; \n",
        "  margin: 20px 50px 20px;\n",
        "  }\n",
        "\n",
        ".slide-header, p.slide-header\n",
        "{\n",
        "  color: #498AF3;\n",
        "  font-size: 200%;\n",
        "  font-weight:bold;\n",
        "  margin: 0px 20px 10px;\n",
        "  page-break-before: always;\n",
        "  text-align: center;\n",
        "  }\n",
        "\n",
        ".rendered_html h1\n",
        "{\n",
        "  color: #498AF3;\n",
        "  line-height: 1.2; \n",
        "  margin: 0.15em 0em 0.5em;\n",
        "  page-break-before: always;\n",
        "  text-align: center;\n",
        "  }\n",
        "\n",
        "\n",
        ".rendered_html h2\n",
        "{ \n",
        "  color: #386BBC;\n",
        "  line-height: 1.2;\n",
        "  margin: 1.1em 0em 0.5em;\n",
        "  }\n",
        "\n",
        ".rendered_html h3\n",
        "{ \n",
        "  font-size: 120%;\n",
        "  line-height: 1.4;\n",
        "  margin: 0.5em 0em 0.5em;\n",
        "  }\n",
        "\n",
        ".rendered_html li\n",
        "{\n",
        "  line-height: 1.8;\n",
        "  }\n",
        "\n",
        ".input_prompt, .CodeMirror-lines\n",
        "{\n",
        "  font-family: Consolas;\n",
        "  font-size: 200%;\n",
        "  line-height:1.4;\n",
        "  }\n",
        ".output_area\n",
        "{\n",
        "  font-family: Consolas;\n",
        "  font-size: 160%;\n",
        "  line-height:1.5;\n",
        "  }\n",
        "\n",
        ".gap-above\n",
        "{\n",
        "  padding-top: 200px;\n",
        "  }\n",
        "\n",
        ".gap01\n",
        "{\n",
        "  padding-top: 20px;\n",
        "  }\n",
        "\n",
        ".gap05\n",
        "{\n",
        "  padding-top: 100px;\n",
        "  }\n",
        "\n",
        ".gap1\n",
        "{\n",
        "  padding-top: 200px;\n",
        "  }\n",
        "\n",
        ".gap2\n",
        "{\n",
        "  padding-top: 400px;\n",
        "  }\n",
        "\n",
        ".gap3\n",
        "{\n",
        "  padding-top: 600px;\n",
        "  }\n",
        "\n",
        ".emph\n",
        "{\n",
        "  color: #386BBC;\n",
        "  }\n",
        "\n",
        ".warn\n",
        "{\n",
        "  color: red;\n",
        "  }\n",
        "\n",
        ".center\n",
        "{\n",
        "  text-align: center;\n",
        "  }\n",
        "\n",
        ".nb_link\n",
        "{\n",
        "    padding-bottom: 0.5em;\n",
        "}\n",
        "\n",
        "</style>\n"
       ],
       "metadata": {},
       "output_type": "display_data",
       "text": [
        "<IPython.core.display.HTML at 0x59f62f0>"
       ]
      }
     ],
     "prompt_number": 3
    },
    {
     "cell_type": "markdown",
     "metadata": {
      "slideshow": {
       "slide_type": "slide"
      }
     },
     "source": [
      "### Definite and Indefinite Loops\n",
      "\n",
      "* *Definite Loop* Known number of iterations\n",
      "    * Know **Before** you start\n",
      "* *Indefinite Loop* Unknown number of iterations\n",
      "    * We will know **when we get there**."
     ]
    },
    {
     "cell_type": "markdown",
     "metadata": {
      "slideshow": {
       "slide_type": "slide"
      }
     },
     "source": [
      "### Example - Fibonacci Numbers\n",
      "\n",
      "* Definite Loop: *Compute the $15^{th}$ Fibonacci number*\n",
      "    * 13 iterations\n",
      "* Indefinite Loop: *First Fibonacci number $\\ge$ 1000*\n",
      "    * Who knows how many iterations"
     ]
    },
    {
     "cell_type": "markdown",
     "metadata": {
      "slideshow": {
       "slide_type": "slide"
      }
     },
     "source": [
      "### Loops in Python\n",
      "\n",
      "* Definite loop\n",
      "    * `for` loop\n",
      "* Indefinite Loop\n",
      "    * `while` loop"
     ]
    },
    {
     "cell_type": "markdown",
     "metadata": {
      "slideshow": {
       "slide_type": "slide"
      }
     },
     "source": [
      "### `while` loop structure"
     ]
    },
    {
     "cell_type": "code",
     "collapsed": false,
     "input": [
      "while <condition>:\n",
      "    <body>"
     ],
     "language": "python",
     "metadata": {
      "slideshow": {
       "slide_type": "fragment"
      }
     },
     "outputs": []
    },
    {
     "cell_type": "markdown",
     "metadata": {
      "slideshow": {
       "slide_type": "fragment"
      }
     },
     "source": [
      "While `<condition> == True`, repeatedly execute `<body>`\n",
      "    "
     ]
    },
    {
     "cell_type": "markdown",
     "metadata": {
      "slideshow": {
       "slide_type": "slide"
      }
     },
     "source": [
      "### Careful!\n",
      "Copy and run the following code in `spyder`"
     ]
    },
    {
     "cell_type": "code",
     "collapsed": false,
     "input": [
      "x = 5\n",
      "while x < 10:\n",
      "    print \"Hello\""
     ],
     "language": "python",
     "metadata": {
      "slideshow": {
       "slide_type": "fragment"
      }
     },
     "outputs": []
    },
    {
     "cell_type": "markdown",
     "metadata": {
      "slideshow": {
       "slide_type": "fragment"
      }
     },
     "source": [
      "**Beware of infinite loops!**"
     ]
    },
    {
     "cell_type": "markdown",
     "metadata": {
      "slideshow": {
       "slide_type": "slide"
      }
     },
     "source": [
      "### Example - First Fibonacci number $\\ge$ 1000"
     ]
    },
    {
     "cell_type": "code",
     "collapsed": false,
     "input": [
      "last = 1\n",
      "second_to_last = 1\n",
      "next = last + second_to_last\n",
      "while next < 1000:\n",
      "    second_to_last = last\n",
      "    last = next\n",
      "    next = last + second_to_last\n",
      "print(next)"
     ],
     "language": "python",
     "metadata": {
      "slideshow": {
       "slide_type": "fragment"
      }
     },
     "outputs": [
      {
       "output_type": "stream",
       "stream": "stdout",
       "text": [
        "1597\n"
       ]
      }
     ],
     "prompt_number": 4
    },
    {
     "cell_type": "markdown",
     "metadata": {
      "slideshow": {
       "slide_type": "slide"
      }
     },
     "source": [
      "### Keeping Count"
     ]
    },
    {
     "cell_type": "code",
     "collapsed": false,
     "input": [
      "last, second_to_last, cnt = 1, 1, 0\n",
      "next = last + second_to_last\n",
      "cnt += 1\n",
      "while next < 1000:\n",
      "    second_to_last = last\n",
      "    last = next\n",
      "    next = last + second_to_last\n",
      "    cnt += 1\n",
      "print(\"The\",cnt,\"fibonacci number,\",next,\\\n",
      "      \", is the 1st number over 1000\")"
     ],
     "language": "python",
     "metadata": {
      "slideshow": {
       "slide_type": "fragment"
      }
     },
     "outputs": [
      {
       "output_type": "stream",
       "stream": "stdout",
       "text": [
        "The 15 fibonacci number, 1597 , is the 1st number over 1000\n"
       ]
      }
     ],
     "prompt_number": 9
    },
    {
     "cell_type": "markdown",
     "metadata": {
      "slideshow": {
       "slide_type": "subslide"
      }
     },
     "source": [
      "### The $3n+1$ Sequence\n",
      "Step Function\n",
      "\n",
      "* $n$ is even: `return n // 2`\n",
      "    * Integer division\n",
      "* $n$ is odd `return 3n+1`"
     ]
    },
    {
     "cell_type": "code",
     "collapsed": false,
     "input": [
      "#Important for spyder\n",
      "from __future__ import division\n",
      "def step(n):\n",
      "    \"\"\" A single step \"\"\"\n",
      "    if n % 2 == 0:\n",
      "        return n // 2\n",
      "    else:\n",
      "        return 3*n + 1"
     ],
     "language": "python",
     "metadata": {
      "slideshow": {
       "slide_type": "slide"
      }
     },
     "outputs": [],
     "prompt_number": 10
    },
    {
     "cell_type": "markdown",
     "metadata": {
      "slideshow": {
       "slide_type": "fragment"
      }
     },
     "source": [
      "### The $3n+1$ Sequence\n",
      "\n",
      "* Until `n == 1` (stopping condition)\n",
      "    * `n = step(n)`"
     ]
    },
    {
     "cell_type": "markdown",
     "metadata": {
      "slideshow": {
       "slide_type": "fragment"
      }
     },
     "source": [
      "    while n != 1: #Continue condition\n",
      "        \n",
      "        n = step(n)"
     ]
    },
    {
     "cell_type": "code",
     "collapsed": false,
     "input": [
      "n = 5\n",
      "while n != 1:\n",
      "    print(n)\n",
      "    n = step(n)\n",
      "print(n)"
     ],
     "language": "python",
     "metadata": {
      "slideshow": {
       "slide_type": "slide"
      }
     },
     "outputs": [
      {
       "output_type": "stream",
       "stream": "stdout",
       "text": [
        "5\n",
        "16\n",
        "8\n",
        "4\n",
        "2\n",
        "1\n"
       ]
      }
     ],
     "prompt_number": 12
    },
    {
     "cell_type": "code",
     "collapsed": false,
     "input": [
      "#Important for spyder\n",
      "from __future__ import division\n",
      "def step(n):\n",
      "    if n % 2 == 0:\n",
      "        return n // 2\n",
      "    else:\n",
      "        return 3*n + 1\n",
      "def seq3np1(n):\n",
      "    while n != 1:\n",
      "        print(n)\n",
      "        n = step(n)\n",
      "    print(n)    # the last print is 1"
     ],
     "language": "python",
     "metadata": {
      "slideshow": {
       "slide_type": "slide"
      }
     },
     "outputs": []
    },
    {
     "cell_type": "code",
     "collapsed": false,
     "input": [
      "seq3np1(5)"
     ],
     "language": "python",
     "metadata": {
      "slideshow": {
       "slide_type": "slide"
      }
     },
     "outputs": [
      {
       "output_type": "stream",
       "stream": "stdout",
       "text": [
        "5\n",
        "16\n",
        "8\n",
        "4\n",
        "2\n",
        "1\n"
       ]
      }
     ],
     "prompt_number": 7
    },
    {
     "cell_type": "code",
     "collapsed": false,
     "input": [
      "seq3np1(21)"
     ],
     "language": "python",
     "metadata": {
      "slideshow": {
       "slide_type": "slide"
      }
     },
     "outputs": [
      {
       "output_type": "stream",
       "stream": "stdout",
       "text": [
        "21\n",
        "64\n",
        "32\n",
        "16\n",
        "8\n",
        "4\n",
        "2\n",
        "1\n"
       ]
      }
     ],
     "prompt_number": 9
    },
    {
     "cell_type": "markdown",
     "metadata": {
      "slideshow": {
       "slide_type": "fragment"
      }
     },
     "source": [
      "**Try `seq3np1(27)` in `spyder`**"
     ]
    }
   ],
   "metadata": {}
  }
 ]
}